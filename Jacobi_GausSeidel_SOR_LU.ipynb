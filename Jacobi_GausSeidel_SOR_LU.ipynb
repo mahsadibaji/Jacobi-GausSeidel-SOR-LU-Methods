{
  "nbformat": 4,
  "nbformat_minor": 0,
  "metadata": {
    "colab": {
      "name": "Jacobi-GausSeidel-SOR-LU.ipynb",
      "provenance": [],
      "collapsed_sections": [
        "Os1j4pOtpEod",
        "lfmAdF3XpJQQ",
        "0er-jZvT6Bd4",
        "9ywftymXEt55"
      ]
    },
    "kernelspec": {
      "name": "python3",
      "display_name": "Python 3"
    },
    "language_info": {
      "name": "python"
    }
  },
  "cells": [
    {
      "cell_type": "markdown",
      "metadata": {
        "id": "ghwAob8BPMv-"
      },
      "source": [
        "**imports**"
      ]
    },
    {
      "cell_type": "code",
      "metadata": {
        "id": "ailJht25f9a9"
      },
      "source": [
        "import numpy as np\n",
        "from scipy.sparse import diags\n",
        "from numpy.linalg import inv\n",
        "from numpy.linalg import norm\n",
        "import matplotlib.pyplot as plt\n",
        "import time\n",
        "import math"
      ],
      "execution_count": null,
      "outputs": []
    },
    {
      "cell_type": "markdown",
      "metadata": {
        "id": "Os1j4pOtpEod"
      },
      "source": [
        "### **Jacobi Method**  "
      ]
    },
    {
      "cell_type": "code",
      "metadata": {
        "id": "bZJJ_JS_hdx9"
      },
      "source": [
        "from numpy import array, zeros, diag, diagflat, dot\n",
        "from numpy.linalg import norm\n",
        "def jacobi(A,b,x=None):\n",
        "    \"\"\"Solves the equation Ax=b via the Jacobi iterative method.\"\"\"\n",
        "    # Create an initial guess if needed                                                                                                                                                            \n",
        "    if x is None:\n",
        "        x_new = np.zeros(len(A[0]))\n",
        "\n",
        "    # Create a vector of the diagonal elements of A                                                                                                                                                \n",
        "    # and subtract them from A                                                                                                                                                                     \n",
        "    D = np.diag(A)\n",
        "    R = A - np.diagflat(D)\n",
        "    condition = True\n",
        "    e = 0.0001\n",
        "    iter = 0\n",
        "    x=[]                                                                                                                                                                       \n",
        "    while condition:\n",
        "        x = x_new\n",
        "        x_new = np.dot(inv(np.diagflat(D)),b - np.dot(R,x))\n",
        "        condition = norm(x_new - x) > e\n",
        "        iter+=1\n",
        "    return x, iter\n"
      ],
      "execution_count": null,
      "outputs": []
    },
    {
      "cell_type": "code",
      "metadata": {
        "colab": {
          "base_uri": "https://localhost:8080/"
        },
        "id": "uymjMjBXnfr2",
        "outputId": "15e1206a-85f3-4935-a253-91d73adcae14"
      },
      "source": [
        "dim = [4, 16, 64, 256, 1024]\n",
        "j_solutions = []\n",
        "j_times = []\n",
        "j_iters = []\n",
        "j_errors = []\n",
        "for n in dim:\n",
        "    A = diags([-1, 4, -1], [-1, 0, 1], shape=(n, n)).toarray()   \n",
        "    b = np.ones(n, dtype=int)\n",
        "    \n",
        "    s_time=time.time()\n",
        "    sol,iter = jacobi(A,b)  \n",
        "    e_time=time.time()\n",
        "    error = norm(np.dot(A,sol)-b)\n",
        "\n",
        "    j_errors.append(error)\n",
        "    j_iters.append(iter)\n",
        "    j_times.append(e_time - s_time)\n",
        "    j_solutions.append(sol)        \n",
        "\n",
        "    print(f'\\n# of iterations for n={n} : {iter}')\n",
        "    print(f\"\\n Jacobi Solution:\\n{sol} \\n\")\n",
        "    print(f\"\\n error : {error}\")\n",
        "    print(\"-\"*100)"
      ],
      "execution_count": null,
      "outputs": [
        {
          "output_type": "stream",
          "text": [
            "\n",
            "# of iterations for n=4 : 11\n",
            "\n",
            " Jacobi Solution:\n",
            "[0.36360073 0.4544878  0.4544878  0.36360073] \n",
            "\n",
            "\n",
            " error : 0.00022831289787792017\n",
            "----------------------------------------------------------------------------------------------------\n",
            "\n",
            "# of iterations for n=16 : 14\n",
            "\n",
            " Jacobi Solution:\n",
            "[0.36601287 0.46407706 0.49034649 0.49737923 0.4992599  0.49976051\n",
            " 0.49989271 0.49992499 0.49992499 0.49989271 0.49976051 0.4992599\n",
            " 0.49737923 0.49034649 0.46407706 0.36601287] \n",
            "\n",
            "\n",
            " error : 0.0003618913248813972\n",
            "----------------------------------------------------------------------------------------------------\n",
            "\n",
            "# of iterations for n=64 : 16\n",
            "\n",
            " Jacobi Solution:\n",
            "[0.36602246 0.46409583 0.49037286 0.49741226 0.49929748 0.49980175\n",
            " 0.49993643 0.49997213 0.49998156 0.49998396 0.49998457 0.4999847\n",
            " 0.49998474 0.49998474 0.49998474 0.49998474 0.49998474 0.49998474\n",
            " 0.49998474 0.49998474 0.49998474 0.49998474 0.49998474 0.49998474\n",
            " 0.49998474 0.49998474 0.49998474 0.49998474 0.49998474 0.49998474\n",
            " 0.49998474 0.49998474 0.49998474 0.49998474 0.49998474 0.49998474\n",
            " 0.49998474 0.49998474 0.49998474 0.49998474 0.49998474 0.49998474\n",
            " 0.49998474 0.49998474 0.49998474 0.49998474 0.49998474 0.49998474\n",
            " 0.49998474 0.49998474 0.49998474 0.49998474 0.4999847  0.49998457\n",
            " 0.49998396 0.49998156 0.49997213 0.49993643 0.49980175 0.49929748\n",
            " 0.49741226 0.49037286 0.46409583 0.36602246] \n",
            "\n",
            "\n",
            " error : 0.00022875498736396415\n",
            "----------------------------------------------------------------------------------------------------\n",
            "\n",
            "# of iterations for n=256 : 17\n",
            "\n",
            " Jacobi Solution:\n",
            "[0.36602396 0.46409883 0.49037702 0.49741758 0.4993035  0.49980848\n",
            " 0.49994347 0.4999795  0.49998902 0.49999153 0.49999217 0.49999233\n",
            " 0.49999236 0.49999237 0.49999237 0.49999237 0.49999237 0.49999237\n",
            " 0.49999237 0.49999237 0.49999237 0.49999237 0.49999237 0.49999237\n",
            " 0.49999237 0.49999237 0.49999237 0.49999237 0.49999237 0.49999237\n",
            " 0.49999237 0.49999237 0.49999237 0.49999237 0.49999237 0.49999237\n",
            " 0.49999237 0.49999237 0.49999237 0.49999237 0.49999237 0.49999237\n",
            " 0.49999237 0.49999237 0.49999237 0.49999237 0.49999237 0.49999237\n",
            " 0.49999237 0.49999237 0.49999237 0.49999237 0.49999237 0.49999237\n",
            " 0.49999237 0.49999237 0.49999237 0.49999237 0.49999237 0.49999237\n",
            " 0.49999237 0.49999237 0.49999237 0.49999237 0.49999237 0.49999237\n",
            " 0.49999237 0.49999237 0.49999237 0.49999237 0.49999237 0.49999237\n",
            " 0.49999237 0.49999237 0.49999237 0.49999237 0.49999237 0.49999237\n",
            " 0.49999237 0.49999237 0.49999237 0.49999237 0.49999237 0.49999237\n",
            " 0.49999237 0.49999237 0.49999237 0.49999237 0.49999237 0.49999237\n",
            " 0.49999237 0.49999237 0.49999237 0.49999237 0.49999237 0.49999237\n",
            " 0.49999237 0.49999237 0.49999237 0.49999237 0.49999237 0.49999237\n",
            " 0.49999237 0.49999237 0.49999237 0.49999237 0.49999237 0.49999237\n",
            " 0.49999237 0.49999237 0.49999237 0.49999237 0.49999237 0.49999237\n",
            " 0.49999237 0.49999237 0.49999237 0.49999237 0.49999237 0.49999237\n",
            " 0.49999237 0.49999237 0.49999237 0.49999237 0.49999237 0.49999237\n",
            " 0.49999237 0.49999237 0.49999237 0.49999237 0.49999237 0.49999237\n",
            " 0.49999237 0.49999237 0.49999237 0.49999237 0.49999237 0.49999237\n",
            " 0.49999237 0.49999237 0.49999237 0.49999237 0.49999237 0.49999237\n",
            " 0.49999237 0.49999237 0.49999237 0.49999237 0.49999237 0.49999237\n",
            " 0.49999237 0.49999237 0.49999237 0.49999237 0.49999237 0.49999237\n",
            " 0.49999237 0.49999237 0.49999237 0.49999237 0.49999237 0.49999237\n",
            " 0.49999237 0.49999237 0.49999237 0.49999237 0.49999237 0.49999237\n",
            " 0.49999237 0.49999237 0.49999237 0.49999237 0.49999237 0.49999237\n",
            " 0.49999237 0.49999237 0.49999237 0.49999237 0.49999237 0.49999237\n",
            " 0.49999237 0.49999237 0.49999237 0.49999237 0.49999237 0.49999237\n",
            " 0.49999237 0.49999237 0.49999237 0.49999237 0.49999237 0.49999237\n",
            " 0.49999237 0.49999237 0.49999237 0.49999237 0.49999237 0.49999237\n",
            " 0.49999237 0.49999237 0.49999237 0.49999237 0.49999237 0.49999237\n",
            " 0.49999237 0.49999237 0.49999237 0.49999237 0.49999237 0.49999237\n",
            " 0.49999237 0.49999237 0.49999237 0.49999237 0.49999237 0.49999237\n",
            " 0.49999237 0.49999237 0.49999237 0.49999237 0.49999237 0.49999237\n",
            " 0.49999237 0.49999237 0.49999237 0.49999237 0.49999237 0.49999237\n",
            " 0.49999237 0.49999237 0.49999237 0.49999237 0.49999237 0.49999237\n",
            " 0.49999237 0.49999237 0.49999237 0.49999237 0.49999237 0.49999237\n",
            " 0.49999237 0.49999237 0.49999237 0.49999236 0.49999233 0.49999217\n",
            " 0.49999153 0.49998902 0.4999795  0.49994347 0.49980848 0.4993035\n",
            " 0.49741758 0.49037702 0.46409883 0.36602396] \n",
            "\n",
            "\n",
            " error : 0.0002402487757697135\n",
            "----------------------------------------------------------------------------------------------------\n",
            "\n",
            "# of iterations for n=1024 : 18\n",
            "\n",
            " Jacobi Solution:\n",
            "[0.36602471 0.46410025 0.4903791  ... 0.4903791  0.46410025 0.36602471] \n",
            "\n",
            "\n",
            " error : 0.00024314049317735828\n",
            "----------------------------------------------------------------------------------------------------\n"
          ],
          "name": "stdout"
        }
      ]
    },
    {
      "cell_type": "markdown",
      "metadata": {
        "id": "lfmAdF3XpJQQ"
      },
      "source": [
        "### **Gaus Seidel** "
      ]
    },
    {
      "cell_type": "code",
      "metadata": {
        "id": "D_xHQe_Wt_9P"
      },
      "source": [
        "from numpy import array, zeros, diag, diagflat, dot\n",
        "from numpy.linalg import norm\n",
        "def gaus_seidel(A,b,x=None):\n",
        "    \"\"\"Solves the equation Ax=b via the Gaus-Seidel iterative method.\"\"\"\n",
        "    # Create an initial guess if needed                                                                                                                                                            \n",
        "    if x is None:\n",
        "        x = np.zeros(len(A[0]))\n",
        "\n",
        "    DL = np.tril(A,0)\n",
        "    U = np.triu(A,1)\n",
        "    condition = True\n",
        "    e = 0.0001\n",
        "    iter = 0\n",
        "\n",
        "    while condition:\n",
        "        x_new = np.dot(inv(DL), b - np.dot(U,x))\n",
        "        condition = norm(x_new - x) > e\n",
        "        x = x_new\n",
        "        iter +=1\n",
        "    return x, iter\n"
      ],
      "execution_count": null,
      "outputs": []
    },
    {
      "cell_type": "code",
      "metadata": {
        "colab": {
          "base_uri": "https://localhost:8080/"
        },
        "id": "ZZaGNaJF00qs",
        "outputId": "76e3962d-b2cd-46ac-e9bd-2eaa89fd08d8"
      },
      "source": [
        "dim = [4, 16, 64, 256, 1024]\n",
        "gs_solutions = []\n",
        "gs_times = []\n",
        "gs_iters = []\n",
        "gs_errors = []\n",
        "for n in dim:\n",
        "    A = diags([-1, 4, -1], [-1, 0, 1], shape=(n, n)).toarray()   \n",
        "    b = np.ones(n, dtype=int)\n",
        "\n",
        "    s_time=time.time()\n",
        "    sol,iter = gaus_seidel(A,b)  \n",
        "    e_time=time.time()\n",
        "    error = norm(np.dot(A,sol)-b)\n",
        "    \n",
        "    gs_errors.append(error)\n",
        "    gs_iters.append(iter)\n",
        "    gs_times.append(e_time - s_time)\n",
        "    gs_solutions.append(sol)         \n",
        "\n",
        "    print(f'\\n# of iterations for n={next} : {iter}')\n",
        "    print(\"\\n gaus seidel Solution : \\n\", sol)\n",
        "    print(f\"\\n error : {error}\")\n",
        "    print(\"-\"*100)"
      ],
      "execution_count": null,
      "outputs": [
        {
          "output_type": "stream",
          "text": [
            "\n",
            "# of iterations for n=<built-in function next> : 7\n",
            "\n",
            " gaus seidel Solution : \n",
            " [0.36362858 0.45454036 0.45454339 0.36363585]\n",
            "\n",
            " error : 2.8208848504108126e-05\n",
            "----------------------------------------------------------------------------------------------------\n",
            "\n",
            "# of iterations for n=<built-in function next> : 10\n",
            "\n",
            " gaus seidel Solution : \n",
            " [0.36601976 0.46409409 0.4903729  0.49741425 0.49930096 0.4998065\n",
            " 0.49994195 0.49997698 0.49997865 0.49994654 0.499813   0.49930844\n",
            " 0.49742218 0.49038088 0.46410155 0.36602539]\n",
            "\n",
            " error : 4.644885739190916e-05\n",
            "----------------------------------------------------------------------------------------------------\n",
            "\n",
            "# of iterations for n=<built-in function next> : 11\n",
            "\n",
            " gaus seidel Solution : \n",
            " [0.36602352 0.46409911 0.49037834 0.49741982 0.49930658 0.49981213\n",
            " 0.4999476  0.49998389 0.49999362 0.49999622 0.49999692 0.49999711\n",
            " 0.49999716 0.49999717 0.49999718 0.49999718 0.49999718 0.49999718\n",
            " 0.49999718 0.49999718 0.49999718 0.49999718 0.49999718 0.49999718\n",
            " 0.49999718 0.49999718 0.49999718 0.49999718 0.49999718 0.49999718\n",
            " 0.49999718 0.49999718 0.49999718 0.49999718 0.49999718 0.49999718\n",
            " 0.49999718 0.49999718 0.49999718 0.49999718 0.49999718 0.49999718\n",
            " 0.49999718 0.49999718 0.49999718 0.49999718 0.49999718 0.49999718\n",
            " 0.49999718 0.49999718 0.49999718 0.49999718 0.49999718 0.49999718\n",
            " 0.49999686 0.49999477 0.49998557 0.49994971 0.49981455 0.49930919\n",
            " 0.49742252 0.49038102 0.4641016  0.3660254 ]\n",
            "\n",
            " error : 4.1783963826767065e-05\n",
            "----------------------------------------------------------------------------------------------------\n",
            "\n",
            "# of iterations for n=<built-in function next> : 11\n",
            "\n",
            " gaus seidel Solution : \n",
            " [0.36602352 0.46409911 0.49037834 0.49741982 0.49930658 0.49981213\n",
            " 0.4999476  0.49998389 0.49999362 0.49999622 0.49999692 0.49999711\n",
            " 0.49999716 0.49999717 0.49999718 0.49999718 0.49999718 0.49999718\n",
            " 0.49999718 0.49999718 0.49999718 0.49999718 0.49999718 0.49999718\n",
            " 0.49999718 0.49999718 0.49999718 0.49999718 0.49999718 0.49999718\n",
            " 0.49999718 0.49999718 0.49999718 0.49999718 0.49999718 0.49999718\n",
            " 0.49999718 0.49999718 0.49999718 0.49999718 0.49999718 0.49999718\n",
            " 0.49999718 0.49999718 0.49999718 0.49999718 0.49999718 0.49999718\n",
            " 0.49999718 0.49999718 0.49999718 0.49999718 0.49999718 0.49999718\n",
            " 0.49999718 0.49999718 0.49999718 0.49999718 0.49999718 0.49999718\n",
            " 0.49999718 0.49999718 0.49999718 0.49999718 0.49999718 0.49999718\n",
            " 0.49999718 0.49999718 0.49999718 0.49999718 0.49999718 0.49999718\n",
            " 0.49999718 0.49999718 0.49999718 0.49999718 0.49999718 0.49999718\n",
            " 0.49999718 0.49999718 0.49999718 0.49999718 0.49999718 0.49999718\n",
            " 0.49999718 0.49999718 0.49999718 0.49999718 0.49999718 0.49999718\n",
            " 0.49999718 0.49999718 0.49999718 0.49999718 0.49999718 0.49999718\n",
            " 0.49999718 0.49999718 0.49999718 0.49999718 0.49999718 0.49999718\n",
            " 0.49999718 0.49999718 0.49999718 0.49999718 0.49999718 0.49999718\n",
            " 0.49999718 0.49999718 0.49999718 0.49999718 0.49999718 0.49999718\n",
            " 0.49999718 0.49999718 0.49999718 0.49999718 0.49999718 0.49999718\n",
            " 0.49999718 0.49999718 0.49999718 0.49999718 0.49999718 0.49999718\n",
            " 0.49999718 0.49999718 0.49999718 0.49999718 0.49999718 0.49999718\n",
            " 0.49999718 0.49999718 0.49999718 0.49999718 0.49999718 0.49999718\n",
            " 0.49999718 0.49999718 0.49999718 0.49999718 0.49999718 0.49999718\n",
            " 0.49999718 0.49999718 0.49999718 0.49999718 0.49999718 0.49999718\n",
            " 0.49999718 0.49999718 0.49999718 0.49999718 0.49999718 0.49999718\n",
            " 0.49999718 0.49999718 0.49999718 0.49999718 0.49999718 0.49999718\n",
            " 0.49999718 0.49999718 0.49999718 0.49999718 0.49999718 0.49999718\n",
            " 0.49999718 0.49999718 0.49999718 0.49999718 0.49999718 0.49999718\n",
            " 0.49999718 0.49999718 0.49999718 0.49999718 0.49999718 0.49999718\n",
            " 0.49999718 0.49999718 0.49999718 0.49999718 0.49999718 0.49999718\n",
            " 0.49999718 0.49999718 0.49999718 0.49999718 0.49999718 0.49999718\n",
            " 0.49999718 0.49999718 0.49999718 0.49999718 0.49999718 0.49999718\n",
            " 0.49999718 0.49999718 0.49999718 0.49999718 0.49999718 0.49999718\n",
            " 0.49999718 0.49999718 0.49999718 0.49999718 0.49999718 0.49999718\n",
            " 0.49999718 0.49999718 0.49999718 0.49999718 0.49999718 0.49999718\n",
            " 0.49999718 0.49999718 0.49999718 0.49999718 0.49999718 0.49999718\n",
            " 0.49999718 0.49999718 0.49999718 0.49999718 0.49999718 0.49999718\n",
            " 0.49999718 0.49999718 0.49999718 0.49999718 0.49999718 0.49999718\n",
            " 0.49999718 0.49999718 0.49999718 0.49999718 0.49999718 0.49999718\n",
            " 0.49999718 0.49999718 0.49999718 0.49999718 0.49999718 0.49999718\n",
            " 0.49999686 0.49999477 0.49998557 0.49994971 0.49981455 0.49930919\n",
            " 0.49742252 0.49038102 0.4641016  0.3660254 ]\n",
            "\n",
            " error : 8.868054961678901e-05\n",
            "----------------------------------------------------------------------------------------------------\n",
            "\n",
            "# of iterations for n=<built-in function next> : 12\n",
            "\n",
            " gaus seidel Solution : \n",
            " [0.36602478 0.46410078 0.49038015 ... 0.49038105 0.46410161 0.3660254 ]\n",
            "\n",
            " error : 5.99206169263756e-05\n",
            "----------------------------------------------------------------------------------------------------\n"
          ],
          "name": "stdout"
        }
      ]
    },
    {
      "cell_type": "markdown",
      "metadata": {
        "id": "0er-jZvT6Bd4"
      },
      "source": [
        "### **SOR** "
      ]
    },
    {
      "cell_type": "code",
      "metadata": {
        "id": "TOnI5L4f4yWF"
      },
      "source": [
        "from numpy import array, zeros, diag, diagflat, dot\n",
        "from numpy.linalg import norm\n",
        "def SOR(A,b,w,x=None):\n",
        "    \"\"\"Solves the equation Ax=b via the SOR iterative method.\"\"\"\n",
        "    # Create an initial guess if needed                                                                                                                                                            \n",
        "    if x is None:\n",
        "        x_new = np.zeros(len(A[0]))\n",
        "\n",
        "    D = np.diagflat(np.diag(A))\n",
        "    L = np.tril(A,-1)\n",
        "    DWL = D + w*L\n",
        "    U = np.triu(A,1)\n",
        "    condition = True\n",
        "    e = 0.0001\n",
        "    iter = 0\n",
        "                                                                                                                                                                       \n",
        "    while condition:\n",
        "        x = x_new\n",
        "        x_new = np.dot(inv(DWL), w*b + np.dot((1-w)*D -w*U,x))\n",
        "        condition = norm(x_new - x) > e\n",
        "\n",
        "        iter +=1\n",
        "    return x, iter\n"
      ],
      "execution_count": null,
      "outputs": []
    },
    {
      "cell_type": "markdown",
      "metadata": {
        "id": "PnueqaZgkqNQ"
      },
      "source": [
        "run SOR with w= 1.1, 1.3, 1.5, 1.7, 1.9 (later we will compare them)"
      ]
    },
    {
      "cell_type": "code",
      "metadata": {
        "id": "mXM_jIptdhaz"
      },
      "source": [
        "dim = [4, 16, 64, 256, 1024]\n",
        "sor_solutions = []\n",
        "wsor_times = []\n",
        "wsor_iters = []\n",
        "w_vals=[1.1,1.3,1.5,1.7,1.9]\n",
        "for w in w_vals:\n",
        "    t=[]\n",
        "    iters=[]\n",
        "    for n in dim:\n",
        "        A = diags([-1, 4, -1], [-1, 0, 1], shape=(n, n)).toarray()   \n",
        "        b = np.ones(n, dtype=int)\n",
        "        s_time=time.time()\n",
        "        sol,iter = SOR(A,b, w=w) \n",
        "        e_time=time.time() \n",
        "        iters.append(iter)\n",
        "        t.append(e_time - s_time)\n",
        "    wsor_iters.append(iters)\n",
        "    wsor_times.append(t)"
      ],
      "execution_count": null,
      "outputs": []
    },
    {
      "cell_type": "markdown",
      "metadata": {
        "id": "Rp6GNDA0kk_v"
      },
      "source": [
        "SOR with w=1.1 Results:"
      ]
    },
    {
      "cell_type": "code",
      "metadata": {
        "colab": {
          "base_uri": "https://localhost:8080/"
        },
        "id": "utMHJNmntXpa",
        "outputId": "8a2b38fb-2c5b-416a-9ff2-41fc5e8167e2"
      },
      "source": [
        "dim = [4, 16, 64, 256, 1024]\n",
        "sor_times = []\n",
        "sor_iters = []\n",
        "sor_errors = []\n",
        "for n in dim:\n",
        "    A = diags([-1, 4, -1], [-1, 0, 1], shape=(n, n)).toarray()   \n",
        "    b = np.ones(n, dtype=int)\n",
        "    \n",
        "    s_time=time.time()\n",
        "    sol, iter = SOR(A,b, w=1.1) \n",
        "    e_time=time.time() \n",
        "    error = norm(np.dot(A,sol)-b)\n",
        "\n",
        "    sor_errors.append(error)\n",
        "    sor_iters.append(iter)\n",
        "    sor_times.append(e_time - s_time)       \n",
        "\n",
        "    print(f'\\n# of iterations for n={n} : {iter}')    \n",
        "    print(\"\\n SOR Solution : \\n\",sol)\n",
        "    print(f\"\\n error : {error}\")\n",
        "    print(\"-\"*100)"
      ],
      "execution_count": null,
      "outputs": [
        {
          "output_type": "stream",
          "text": [
            "\n",
            "# of iterations for n=4 : 6\n",
            "\n",
            " SOR Solution : \n",
            " [0.36354868 0.45451303 0.45453623 0.36363396]\n",
            "\n",
            " error : 0.00032001005885432844\n",
            "----------------------------------------------------------------------------------------------------\n",
            "\n",
            "# of iterations for n=16 : 8\n",
            "\n",
            " SOR Solution : \n",
            " [0.36600729 0.46407914 0.49035752 0.49739882 0.49928554 0.49979109\n",
            " 0.49992655 0.49996284 0.49997257 0.49997518 0.49981182 0.4993082\n",
            " 0.49742243 0.49038105 0.46410162 0.3660254 ]\n",
            "\n",
            " error : 0.00018876516415419338\n",
            "----------------------------------------------------------------------------------------------------\n",
            "\n",
            "# of iterations for n=64 : 9\n",
            "\n",
            " SOR Solution : \n",
            " [0.36602103 0.46409619 0.49037538 0.49741687 0.49930363 0.49980919\n",
            " 0.49994465 0.49998095 0.49999068 0.49999328 0.49999398 0.49999417\n",
            " 0.49999422 0.49999423 0.49999424 0.49999424 0.49999424 0.49999424\n",
            " 0.49999424 0.49999424 0.49999424 0.49999424 0.49999424 0.49999424\n",
            " 0.49999424 0.49999424 0.49999424 0.49999424 0.49999424 0.49999424\n",
            " 0.49999424 0.49999424 0.49999424 0.49999424 0.49999424 0.49999424\n",
            " 0.49999424 0.49999424 0.49999424 0.49999424 0.49999424 0.49999424\n",
            " 0.49999424 0.49999424 0.49999424 0.49999424 0.49999424 0.49999424\n",
            " 0.49999424 0.49999424 0.49999424 0.49999424 0.49999424 0.49999424\n",
            " 0.49999424 0.49999424 0.49999424 0.49994912 0.49981458 0.49930935\n",
            " 0.49742262 0.49038106 0.46410162 0.3660254 ]\n",
            "\n",
            " error : 9.345426804368328e-05\n",
            "----------------------------------------------------------------------------------------------------\n",
            "\n",
            "# of iterations for n=256 : 9\n",
            "\n",
            " SOR Solution : \n",
            " [0.36602103 0.46409619 0.49037538 0.49741687 0.49930363 0.49980919\n",
            " 0.49994465 0.49998095 0.49999068 0.49999328 0.49999398 0.49999417\n",
            " 0.49999422 0.49999423 0.49999424 0.49999424 0.49999424 0.49999424\n",
            " 0.49999424 0.49999424 0.49999424 0.49999424 0.49999424 0.49999424\n",
            " 0.49999424 0.49999424 0.49999424 0.49999424 0.49999424 0.49999424\n",
            " 0.49999424 0.49999424 0.49999424 0.49999424 0.49999424 0.49999424\n",
            " 0.49999424 0.49999424 0.49999424 0.49999424 0.49999424 0.49999424\n",
            " 0.49999424 0.49999424 0.49999424 0.49999424 0.49999424 0.49999424\n",
            " 0.49999424 0.49999424 0.49999424 0.49999424 0.49999424 0.49999424\n",
            " 0.49999424 0.49999424 0.49999424 0.49999424 0.49999424 0.49999424\n",
            " 0.49999424 0.49999424 0.49999424 0.49999424 0.49999424 0.49999424\n",
            " 0.49999424 0.49999424 0.49999424 0.49999424 0.49999424 0.49999424\n",
            " 0.49999424 0.49999424 0.49999424 0.49999424 0.49999424 0.49999424\n",
            " 0.49999424 0.49999424 0.49999424 0.49999424 0.49999424 0.49999424\n",
            " 0.49999424 0.49999424 0.49999424 0.49999424 0.49999424 0.49999424\n",
            " 0.49999424 0.49999424 0.49999424 0.49999424 0.49999424 0.49999424\n",
            " 0.49999424 0.49999424 0.49999424 0.49999424 0.49999424 0.49999424\n",
            " 0.49999424 0.49999424 0.49999424 0.49999424 0.49999424 0.49999424\n",
            " 0.49999424 0.49999424 0.49999424 0.49999424 0.49999424 0.49999424\n",
            " 0.49999424 0.49999424 0.49999424 0.49999424 0.49999424 0.49999424\n",
            " 0.49999424 0.49999424 0.49999424 0.49999424 0.49999424 0.49999424\n",
            " 0.49999424 0.49999424 0.49999424 0.49999424 0.49999424 0.49999424\n",
            " 0.49999424 0.49999424 0.49999424 0.49999424 0.49999424 0.49999424\n",
            " 0.49999424 0.49999424 0.49999424 0.49999424 0.49999424 0.49999424\n",
            " 0.49999424 0.49999424 0.49999424 0.49999424 0.49999424 0.49999424\n",
            " 0.49999424 0.49999424 0.49999424 0.49999424 0.49999424 0.49999424\n",
            " 0.49999424 0.49999424 0.49999424 0.49999424 0.49999424 0.49999424\n",
            " 0.49999424 0.49999424 0.49999424 0.49999424 0.49999424 0.49999424\n",
            " 0.49999424 0.49999424 0.49999424 0.49999424 0.49999424 0.49999424\n",
            " 0.49999424 0.49999424 0.49999424 0.49999424 0.49999424 0.49999424\n",
            " 0.49999424 0.49999424 0.49999424 0.49999424 0.49999424 0.49999424\n",
            " 0.49999424 0.49999424 0.49999424 0.49999424 0.49999424 0.49999424\n",
            " 0.49999424 0.49999424 0.49999424 0.49999424 0.49999424 0.49999424\n",
            " 0.49999424 0.49999424 0.49999424 0.49999424 0.49999424 0.49999424\n",
            " 0.49999424 0.49999424 0.49999424 0.49999424 0.49999424 0.49999424\n",
            " 0.49999424 0.49999424 0.49999424 0.49999424 0.49999424 0.49999424\n",
            " 0.49999424 0.49999424 0.49999424 0.49999424 0.49999424 0.49999424\n",
            " 0.49999424 0.49999424 0.49999424 0.49999424 0.49999424 0.49999424\n",
            " 0.49999424 0.49999424 0.49999424 0.49999424 0.49999424 0.49999424\n",
            " 0.49999424 0.49999424 0.49999424 0.49999424 0.49999424 0.49999424\n",
            " 0.49999424 0.49999424 0.49999424 0.49999424 0.49999424 0.49999424\n",
            " 0.49999424 0.49999424 0.49999424 0.49994912 0.49981458 0.49930935\n",
            " 0.49742262 0.49038106 0.46410162 0.3660254 ]\n",
            "\n",
            " error : 0.00018501743915916928\n",
            "----------------------------------------------------------------------------------------------------\n",
            "\n",
            "# of iterations for n=1024 : 10\n",
            "\n",
            " SOR Solution : \n",
            " [0.36602435 0.46410031 0.49037969 ... 0.49038106 0.46410162 0.3660254 ]\n",
            "\n",
            " error : 8.924125089592384e-05\n",
            "----------------------------------------------------------------------------------------------------\n"
          ],
          "name": "stdout"
        }
      ]
    },
    {
      "cell_type": "markdown",
      "metadata": {
        "id": "9ywftymXEt55"
      },
      "source": [
        "## **Comparison** "
      ]
    },
    {
      "cell_type": "markdown",
      "metadata": {
        "id": "qyNilUB9iU8P"
      },
      "source": [
        "### time\n"
      ]
    },
    {
      "cell_type": "markdown",
      "metadata": {
        "id": "dztofEpqkF1K"
      },
      "source": [
        "First we compare Time for SOR with different w."
      ]
    },
    {
      "cell_type": "code",
      "metadata": {
        "colab": {
          "base_uri": "https://localhost:8080/",
          "height": 279
        },
        "id": "hfDAtsIufH1R",
        "outputId": "26c993bc-c79a-4e59-ed17-c28f0c53f064"
      },
      "source": [
        "x = [4, 16, 64, 256, 1024]\n",
        "values =[1,2,4,7,12]\n",
        "for w,t in zip(w_vals,wsor_times):\n",
        "    plt.plot(values,t, label = \"SOR w = \"+str(w))\n",
        "plt.ylabel(\"Time\")\n",
        "plt.xlabel('Matrix Size')\n",
        "plt.legend()\n",
        "plt.xticks(values, x)\n",
        "plt.savefig(\"w_compare_times.png\",dpi=500) \n",
        "plt.show()"
      ],
      "execution_count": null,
      "outputs": [
        {
          "output_type": "display_data",
          "data": {
            "image/png": "[encoded data removed]",
            "text/plain": [
              "<Figure size 432x288 with 1 Axes>"
            ]
          },
          "metadata": {
            "tags": [],
            "needs_background": "light"
          }
        }
      ]
    },
    {
      "cell_type": "markdown",
      "metadata": {
        "id": "4u_9T2nqhX5w"
      },
      "source": [
        "Since SOR with w=1.5 runs in less time according to the above plot, next we compare it to other algorithms."
      ]
    },
    {
      "cell_type": "code",
      "metadata": {
        "colab": {
          "base_uri": "https://localhost:8080/",
          "height": 279
        },
        "id": "PwW05-Ynu5Si",
        "outputId": "a2261651-43ce-48e5-9030-2890befceb12"
      },
      "source": [
        "x = [4, 16, 64, 256, 1024]\n",
        "values =[1,2,4,7,12]\n",
        "plt.plot(values,j_times, label = \"Jacobi\")\n",
        "plt.plot(values,gs_times, label = \"Gaus Seidel\")\n",
        "plt.plot(values,wsor_times[0], label = \"SOR w = 1.1\")\n",
        "plt.ylabel(\"Time\")\n",
        "plt.xlabel('Matrix Size')\n",
        "plt.legend()\n",
        "plt.xticks(values, x)\n",
        "plt.yticks(np.arange(0, max(sor_times+gs_times+j_times), 0.2))\n",
        "plt.savefig(\"time.png\",dpi=500) \n",
        "plt.show()\n"
      ],
      "execution_count": null,
      "outputs": [
        {
          "output_type": "display_data",
          "data": {
            "image/png": "[encoded data removed]",
            "text/plain": [
              "<Figure size 432x288 with 1 Axes>"
            ]
          },
          "metadata": {
            "tags": [],
            "needs_background": "light"
          }
        }
      ]
    },
    {
      "cell_type": "markdown",
      "metadata": {
        "id": "2-HXqTn2ig1t"
      },
      "source": [
        "### Number of iterations"
      ]
    },
    {
      "cell_type": "markdown",
      "metadata": {
        "id": "8srQuc6ojaHg"
      },
      "source": [
        "First we compare number of iterations for SOR with different w."
      ]
    },
    {
      "cell_type": "code",
      "metadata": {
        "colab": {
          "base_uri": "https://localhost:8080/",
          "height": 279
        },
        "id": "-pYfkmzTirBj",
        "outputId": "da367915-eff7-4bf3-d9ca-a6b0312f1865"
      },
      "source": [
        "x = [4, 16, 64, 256, 1024]\n",
        "values =[1,2,4,7,12]\n",
        "for w,t in zip(w_vals,wsor_iters):\n",
        "    plt.plot(values,t, label = \"SOR w = \"+str(w))\n",
        "plt.ylabel(\"# of iterations\")\n",
        "plt.xlabel('Matrix Size')\n",
        "plt.legend()\n",
        "plt.xticks(values, x)\n",
        "plt.savefig(\"w_compare_iterations.png\",dpi=500) \n",
        "plt.show()"
      ],
      "execution_count": null,
      "outputs": [
        {
          "output_type": "display_data",
          "data": {
            "image/png": "[encoded data removed]",
            "text/plain": [
              "<Figure size 432x288 with 1 Axes>"
            ]
          },
          "metadata": {
            "tags": [],
            "needs_background": "light"
          }
        }
      ]
    },
    {
      "cell_type": "markdown",
      "metadata": {
        "id": "gj5MJ8PPjwht"
      },
      "source": [
        "Since SOR with w=1.1 has the lowest number of iterations, next we will compare it with other algorithms"
      ]
    },
    {
      "cell_type": "code",
      "metadata": {
        "colab": {
          "base_uri": "https://localhost:8080/",
          "height": 279
        },
        "id": "dmgWaFZVbvUk",
        "outputId": "a2beb9a7-aa69-4251-883f-bbc0247cd4db"
      },
      "source": [
        "x = [4, 16, 64, 256, 1024]\n",
        "values =[1,2,4,7,12]\n",
        "plt.plot(values,j_iters, label = \"Jacobi\")\n",
        "plt.plot(values,gs_iters, label = \"Gaus Seidel\")\n",
        "plt.plot(values,wsor_iters[0], label = \"SOR w=1.1\")\n",
        "plt.ylabel(\"# of iterations\")\n",
        "plt.xlabel('Matrix Size')\n",
        "plt.legend()\n",
        "plt.xticks(values, x)\n",
        "plt.savefig(\"iterations.png\",dpi=500) \n",
        "plt.show()"
      ],
      "execution_count": null,
      "outputs": [
        {
          "output_type": "display_data",
          "data": {
            "image/png": "[encoded data removed]",
            "text/plain": [
              "<Figure size 432x288 with 1 Axes>"
            ]
          },
          "metadata": {
            "tags": [],
            "needs_background": "light"
          }
        }
      ]
    },
    {
      "cell_type": "markdown",
      "metadata": {
        "id": "HuwOpdjZI08q"
      },
      "source": [
        "### Error"
      ]
    },
    {
      "cell_type": "code",
      "metadata": {
        "colab": {
          "base_uri": "https://localhost:8080/"
        },
        "id": "pGpy8WpzJ_0a",
        "outputId": "4e662dd3-483e-497a-9c31-8991fb8689f8"
      },
      "source": [
        "j_errors"
      ],
      "execution_count": null,
      "outputs": [
        {
          "output_type": "execute_result",
          "data": {
            "text/plain": [
              "[0.00022831289787792017,\n",
              " 0.0003618913248813972,\n",
              " 0.00022875498736396415,\n",
              " 0.0002402487757697135,\n",
              " 0.00024314049317735828]"
            ]
          },
          "metadata": {
            "tags": []
          },
          "execution_count": 64
        }
      ]
    },
    {
      "cell_type": "code",
      "metadata": {
        "colab": {
          "base_uri": "https://localhost:8080/"
        },
        "id": "iGQOISC2KHfc",
        "outputId": "55bcb1fc-27bb-42b1-8d56-c603cc043774"
      },
      "source": [
        "gs_errors"
      ],
      "execution_count": null,
      "outputs": [
        {
          "output_type": "execute_result",
          "data": {
            "text/plain": [
              "[2.8208848504108126e-05,\n",
              " 4.644885739190916e-05,\n",
              " 4.1783963826767065e-05,\n",
              " 8.868054961678901e-05,\n",
              " 5.99206169263756e-05]"
            ]
          },
          "metadata": {
            "tags": []
          },
          "execution_count": 65
        }
      ]
    },
    {
      "cell_type": "code",
      "metadata": {
        "colab": {
          "base_uri": "https://localhost:8080/"
        },
        "id": "TZPkldfWKJk-",
        "outputId": "f1ba49d4-d56b-4480-ce50-ff4a2efc1fd4"
      },
      "source": [
        "sor_errors"
      ],
      "execution_count": null,
      "outputs": [
        {
          "output_type": "execute_result",
          "data": {
            "text/plain": [
              "[0.00032001005885432844,\n",
              " 0.00018876516415419338,\n",
              " 9.345426804368328e-05,\n",
              " 0.00018501743915916928,\n",
              " 8.924125089592384e-05]"
            ]
          },
          "metadata": {
            "tags": []
          },
          "execution_count": 66
        }
      ]
    },
    {
      "cell_type": "code",
      "metadata": {
        "colab": {
          "base_uri": "https://localhost:8080/",
          "height": 279
        },
        "id": "YCc9dghLI4KO",
        "outputId": "249555ef-c90b-4b6e-94b0-78ee2d9ebdc0"
      },
      "source": [
        "x = [4, 16, 64, 256, 1024]\n",
        "values =[1,2,4,7,12]\n",
        "plt.plot(values,j_errors, label = \"Jacobi\")\n",
        "plt.plot(values,gs_errors, label = \"Gaus Seidel\")\n",
        "plt.plot(values,sor_errors, label = \"SOR w = 1.1\")\n",
        "plt.ylabel(\"Error\")\n",
        "plt.xlabel('Matrix Size')\n",
        "plt.legend()\n",
        "plt.xticks(values, x)\n",
        "plt.savefig(\"Error.png\",dpi=500) \n",
        "plt.show()\n"
      ],
      "execution_count": null,
      "outputs": [
        {
          "output_type": "display_data",
          "data": {
            "image/png": "[encoded data removed]",
            "text/plain": [
              "<Figure size 432x288 with 1 Axes>"
            ]
          },
          "metadata": {
            "tags": [],
            "needs_background": "light"
          }
        }
      ]
    },
    {
      "cell_type": "markdown",
      "metadata": {
        "id": "vS3VdOgIa3Vf"
      },
      "source": [
        "## **LU Decomposition**"
      ]
    },
    {
      "cell_type": "code",
      "metadata": {
        "id": "stzQiR0Ga2js"
      },
      "source": [
        "def LU(A):\n",
        "  n = A.shape[0]\n",
        "  L = np.zeros_like(A)\n",
        "  U = np.zeros_like(A)\n",
        "\n",
        "  for i in range(0, n):\n",
        "    L[i, i] = 1\n",
        "\n",
        "  for k in range(n-1):\n",
        "    for i in range(k+1,n):          \n",
        "      A[i,k] = A[i,k]/A[k,k]      \n",
        "      L[i,k] = A[i,k]/A[k,k]\n",
        "      if math.isinf(A[i,k]/A[k,k]):\n",
        "        raise Exception(\"This mtraix does not have LU decomposition\")\n",
        "      for j in range(k+1,n):      \n",
        "        A[i,j] -= A[i,k]*A[k,j] \n",
        "        U[i,j] -= L[i,k]*A[k,j]\n",
        "        if math.isinf(A[i,j]):\n",
        "          raise Exception(\"This mtraix does not have LU decomposition\")\n",
        "    \n",
        "  return L,U"
      ],
      "execution_count": null,
      "outputs": []
    },
    {
      "cell_type": "code",
      "metadata": {
        "id": "cGdYVBa4bTGj"
      },
      "source": [
        "def LU_pivot(A):\n",
        "  n = A.shape[0]\n",
        "  L = np.zeros_like(A)\n",
        "  U = np.zeros_like(A)\n",
        "\n",
        "  for i in range(0, n):\n",
        "    L[i, i] = 1\n",
        "\n",
        "  n = A.shape[0]\n",
        "  for k in range(n-1):\n",
        "    max_row_index = np.argmax(abs(A[k:n,k])) + k\n",
        "    A[[k,max_row_index]] = A[[max_row_index,k]]\n",
        "\n",
        "    for i in range(k+1,n):          \n",
        "      A[i,k] = A[i,k]/A[k,k]      \n",
        "      L[i,k] = A[i,k]/A[k,k]\n",
        "      for j in range(k+1,n):      \n",
        "        A[i,j] -= A[i,k]*A[k,j]   \n",
        "        U[i,j] -= L[i,k]*A[k,j]\n",
        "    \n",
        "  return L,U"
      ],
      "execution_count": null,
      "outputs": []
    },
    {
      "cell_type": "code",
      "metadata": {
        "id": "ITtSlVQYiI1e"
      },
      "source": [
        "dim = [4,16,64,256,1024]\n",
        "LU_times = []\n",
        "for n in dim:\n",
        "    A = diags([-1, 4, -1], [-1, 0, 1], shape=(n, n)).toarray()   \n",
        "    s_time=time.time()\n",
        "    L, U = LU(A) \n",
        "    e_time=time.time()\n",
        "    LU_times.append(e_time - s_time)\n",
        "    print(n, L, U)"
      ],
      "execution_count": null,
      "outputs": []
    },
    {
      "cell_type": "code",
      "metadata": {
        "id": "9mTQaBqciJFm"
      },
      "source": [
        "dim = [4,16,64,256,1024]\n",
        "LU_PP_times = []\n",
        "for n in dim:\n",
        "    A = diags([-1, 4, -1], [-1, 0, 1], shape=(n, n)).toarray()   \n",
        "    s_time=time.time()\n",
        "    L, U = LU_pivot(A) \n",
        "    e_time=time.time()\n",
        "    LU_PP_times.append(e_time - s_time)\n",
        "    print(n, L, U)"
      ],
      "execution_count": null,
      "outputs": []
    },
    {
      "cell_type": "code",
      "metadata": {
        "id": "IHkEsBpsv_UR"
      },
      "source": [
        "LU_times = []\n",
        "dim = list(range(4,200,4))\n",
        "for n in dim:\n",
        "    A = diags([-1, 4, -1], [-1, 0, 1], shape=(n, n)).toarray()   \n",
        "    s_time=time.time()\n",
        "    L, U = LU(A) \n",
        "    e_time=time.time()\n",
        "    LU_times.append(e_time - s_time)\n",
        "    print(n, e_time - s_time)"
      ],
      "execution_count": null,
      "outputs": []
    },
    {
      "cell_type": "code",
      "metadata": {
        "id": "j0y3pZOc62f9"
      },
      "source": [
        "LU_PP_times = []\n",
        "for n in dim:\n",
        "    A = diags([-1, 4, -1], [-1, 0, 1], shape=(n, n)).toarray()   \n",
        "    s_time=time.time()\n",
        "    L, U = LU_pivot(A) \n",
        "    e_time=time.time()\n",
        "    LU_PP_times.append(e_time - s_time)\n",
        "    print(n, e_time - s_time)"
      ],
      "execution_count": null,
      "outputs": []
    },
    {
      "cell_type": "markdown",
      "metadata": {
        "id": "tpScBFCJdUpS"
      },
      "source": [
        "As you can see, the plot for computation time of LU is similar to the plot of n^3."
      ]
    },
    {
      "cell_type": "code",
      "metadata": {
        "id": "yB5j699X2RiQ",
        "colab": {
          "base_uri": "https://localhost:8080/",
          "height": 279
        },
        "outputId": "8c86d469-301b-4867-feb3-e11ce2a54aa5"
      },
      "source": [
        "plt.plot(dim,LU_times, label = \"LU\")\n",
        "plt.plot(dim,LU_PP_times, label = \"LU_PP\")\n",
        "plt.ylabel(\"Time\")\n",
        "plt.xlabel('n')\n",
        "plt.legend()\n",
        "plt.savefig(\"time.png\",dpi=500) \n",
        "plt.show()"
      ],
      "execution_count": null,
      "outputs": [
        {
          "output_type": "display_data",
          "data": {
            "image/png": "[encoded data removed]",
            "text/plain": [
              "<Figure size 432x288 with 1 Axes>"
            ]
          },
          "metadata": {
            "tags": [],
            "needs_background": "light"
          }
        }
      ]
    }
  ]
}